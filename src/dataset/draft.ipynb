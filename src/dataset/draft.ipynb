{
 "cells": [
  {
   "cell_type": "code",
   "execution_count": 1,
   "metadata": {},
   "outputs": [
    {
     "name": "stderr",
     "output_type": "stream",
     "text": [
      "/home/hoang/.local/lib/python3.8/site-packages/tqdm/auto.py:22: TqdmWarning: IProgress not found. Please update jupyter and ipywidgets. See https://ipywidgets.readthedocs.io/en/stable/user_install.html\n",
      "  from .autonotebook import tqdm as notebook_tqdm\n"
     ]
    }
   ],
   "source": [
    "import torch\n",
    "from torch.utils.data import Dataset\n",
    "import pandas as pd\n",
    "import numpy as np"
   ]
  },
  {
   "cell_type": "code",
   "execution_count": 2,
   "metadata": {},
   "outputs": [],
   "source": [
    "from raw_data import air_quality_train_data\n",
    "\n",
    "dt = air_quality_train_data(\"/home/hoang/Documents/CodeSpace/air-quality-forecasting/data/data-train\")"
   ]
  },
  {
   "cell_type": "code",
   "execution_count": 16,
   "metadata": {},
   "outputs": [],
   "source": [
    "feats = []\n",
    "\n",
    "for key in (\"input\", \"output\"):\n",
    "    for station in dt[key].values():\n",
    "        feats += station[\"data\"][\"temperature\"].dropna().tolist()\n",
    "\n",
    "feats = np.array(feats)"
   ]
  },
  {
   "cell_type": "code",
   "execution_count": 17,
   "metadata": {},
   "outputs": [
    {
     "data": {
      "text/plain": [
       "(8.8, 37.11)"
      ]
     },
     "execution_count": 17,
     "metadata": {},
     "output_type": "execute_result"
    }
   ],
   "source": [
    "feats.min(), (feats.max() - feats.min())"
   ]
  },
  {
   "cell_type": "code",
   "execution_count": 13,
   "metadata": {},
   "outputs": [
    {
     "data": {
      "text/plain": [
       "(45.063545172080076, 42.227863829824535)"
      ]
     },
     "execution_count": 13,
     "metadata": {},
     "output_type": "execute_result"
    }
   ],
   "source": [
    "feats.mean(), feats.std()"
   ]
  },
  {
   "cell_type": "code",
   "execution_count": 28,
   "metadata": {},
   "outputs": [],
   "source": [
    "L = 24\n",
    "x = []\n",
    "\n",
    "for i in range(375):\n",
    "    _x = []\n",
    "    for station in dt[\"input\"].values():\n",
    "        stdt = station[\"data\"][\"PM2.5\"]\n",
    "        start_idx = L * i\n",
    "        end_idx = start_idx + L\n",
    "\n",
    "        frame = stdt[start_idx : end_idx]\n",
    "\n",
    "        if frame.isna().sum() == 0:\n",
    "            _x.append(frame.tolist())\n",
    "\n",
    "    x.append(torch.tensor(_x))"
   ]
  },
  {
   "cell_type": "code",
   "execution_count": null,
   "metadata": {},
   "outputs": [],
   "source": [
    "x[-1]"
   ]
  },
  {
   "cell_type": "code",
   "execution_count": 30,
   "metadata": {},
   "outputs": [],
   "source": [
    "class MissingDataset(Dataset):\n",
    "    def __init__(self, path: str, frame_size: int, usecol: str = \"PM2.5\"):\n",
    "        self.data = self._preprocessing(path, usecol, frame_size)\n",
    "\n",
    "    def _preprocessing(self, path: str, usecol: str, frame_size: int):\n",
    "        raw = air_quality_train_data(path)\n",
    "        data_len = int(9000 / frame_size)\n",
    "        \n",
    "        x = []\n",
    "        for i in range(data_len):\n",
    "            _x = []\n",
    "            for k in (\"input\", \"output\"):\n",
    "                for station in dt[k].values():\n",
    "                    stdt = station[\"data\"][usecol]\n",
    "                    start_idx = frame_size * i\n",
    "                    end_idx = start_idx + frame_size\n",
    "\n",
    "                    frame = stdt[start_idx : end_idx]\n",
    "\n",
    "                    if frame.isna().sum() == 0:\n",
    "                        _x.append(frame.tolist())\n",
    "\n",
    "            x.append(torch.tensor(_x))\n",
    "\n",
    "        return x\n",
    "\n",
    "    def __getitem__(self, index):\n",
    "        return x[index]\n",
    "\n",
    "    def __len__(self):\n",
    "        return len(x)"
   ]
  },
  {
   "cell_type": "code",
   "execution_count": 31,
   "metadata": {},
   "outputs": [],
   "source": [
    "dts = MissingDataset(\n",
    "    \"/home/hoang/Documents/CodeSpace/air-quality-forecasting/data/data-train\",\n",
    "    frame_size=24,\n",
    ")"
   ]
  },
  {
   "cell_type": "code",
   "execution_count": 35,
   "metadata": {},
   "outputs": [
    {
     "data": {
      "text/plain": [
       "torch.Size([10, 24])"
      ]
     },
     "execution_count": 35,
     "metadata": {},
     "output_type": "execute_result"
    }
   ],
   "source": [
    "dts[1].shape"
   ]
  }
 ],
 "metadata": {
  "kernelspec": {
   "display_name": "Python 3.8.10 64-bit",
   "language": "python",
   "name": "python3"
  },
  "language_info": {
   "codemirror_mode": {
    "name": "ipython",
    "version": 3
   },
   "file_extension": ".py",
   "mimetype": "text/x-python",
   "name": "python",
   "nbconvert_exporter": "python",
   "pygments_lexer": "ipython3",
   "version": "3.8.10"
  },
  "orig_nbformat": 4,
  "vscode": {
   "interpreter": {
    "hash": "916dbcbb3f70747c44a77c7bcd40155683ae19c65e1c03b4aa3499c5328201f1"
   }
  }
 },
 "nbformat": 4,
 "nbformat_minor": 2
}

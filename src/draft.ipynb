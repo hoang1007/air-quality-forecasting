{
 "cells": [
  {
   "cell_type": "code",
   "execution_count": 1,
   "metadata": {},
   "outputs": [
    {
     "name": "stderr",
     "output_type": "stream",
     "text": [
      "/home/hoang/.local/lib/python3.8/site-packages/tqdm/auto.py:22: TqdmWarning: IProgress not found. Please update jupyter and ipywidgets. See https://ipywidgets.readthedocs.io/en/stable/user_install.html\n",
      "  from .autonotebook import tqdm as notebook_tqdm\n"
     ]
    }
   ],
   "source": [
    "from dataset import AirQualityDataset\n",
    "from dataset.raw_data import air_quality_test_data, air_quality_train_data\n",
    "import torch\n",
    "import pandas as pd\n",
    "import numpy as np\n",
    "from sklearn.preprocessing import StandardScaler"
   ]
  },
  {
   "cell_type": "code",
   "execution_count": 7,
   "metadata": {},
   "outputs": [],
   "source": [
    "dts = AirQualityDataset(\n",
    "        \"../data\",\n",
    "        output_frame_size=24,\n",
    "        normalize_mean={\"humidity\":0, \"temperature\": 0, \"PM2.5\": 0},\n",
    "        normalize_std={\"humidity\": 1, \"temperature\": 1, \"PM2.5\": 1},\n",
    "        stride=24,\n",
    "        data_set=\"train\",\n",
    "        fillnan_fn=lambda x: x.interpolate(option=\"spline\").bfill()\n",
    "    )"
   ]
  },
  {
   "cell_type": "code",
   "execution_count": 4,
   "metadata": {},
   "outputs": [],
   "source": [
    "raw = air_quality_train_data(\"../data/data-train/\")"
   ]
  },
  {
   "cell_type": "code",
   "execution_count": 5,
   "metadata": {},
   "outputs": [
    {
     "data": {
      "text/plain": [
       "{'mean': 75.83080892930954, 'std': 14.527020139735658}"
      ]
     },
     "execution_count": 5,
     "metadata": {},
     "output_type": "execute_result"
    }
   ],
   "source": [
    "from statistics import mean\n",
    "m, s = [], []\n",
    "\n",
    "for name, station in raw[\"input\"].items():\n",
    "    m.append(station[\"data\"][\"humidity\"].dropna().mean())\n",
    "    s.append(station[\"data\"][\"humidity\"].dropna().std())\n",
    "\n",
    "{\n",
    "    \"mean\": mean(m),\n",
    "    \"std\": mean(s)\n",
    "}"
   ]
  },
  {
   "cell_type": "code",
   "execution_count": 1,
   "metadata": {},
   "outputs": [
    {
     "name": "stderr",
     "output_type": "stream",
     "text": [
      "/home/hoang/.local/lib/python3.8/site-packages/tqdm/auto.py:22: TqdmWarning: IProgress not found. Please update jupyter and ipywidgets. See https://ipywidgets.readthedocs.io/en/stable/user_install.html\n",
      "  from .autonotebook import tqdm as notebook_tqdm\n"
     ]
    }
   ],
   "source": [
    "import torch\n",
    "x = torch.rand((2, 3))\n",
    "mask = torch.tensor([[1, 0, 1], [0 ,0, 1]])"
   ]
  },
  {
   "cell_type": "code",
   "execution_count": 2,
   "metadata": {},
   "outputs": [
    {
     "data": {
      "text/plain": [
       "tensor([[[0.2701, 0.1589, 0.0578],\n",
       "         [0.3316, 0.8378, 0.9629],\n",
       "         [0.2701, 0.1589, 0.0578]],\n",
       "\n",
       "        [[0.3316, 0.8378, 0.9629],\n",
       "         [0.3316, 0.8378, 0.9629],\n",
       "         [0.2701, 0.1589, 0.0578]]])"
      ]
     },
     "execution_count": 2,
     "metadata": {},
     "output_type": "execute_result"
    }
   ],
   "source": [
    "x[mask]"
   ]
  },
  {
   "cell_type": "code",
   "execution_count": 3,
   "metadata": {},
   "outputs": [
    {
     "data": {
      "text/plain": [
       "tensor([[0.3316, 0.8378, 0.9629],\n",
       "        [0.2701, 0.1589, 0.0578]])"
      ]
     },
     "execution_count": 3,
     "metadata": {},
     "output_type": "execute_result"
    }
   ],
   "source": [
    "x"
   ]
  }
 ],
 "metadata": {
  "kernelspec": {
   "display_name": "Python 3.8.10 64-bit",
   "language": "python",
   "name": "python3"
  },
  "language_info": {
   "codemirror_mode": {
    "name": "ipython",
    "version": 3
   },
   "file_extension": ".py",
   "mimetype": "text/x-python",
   "name": "python",
   "nbconvert_exporter": "python",
   "pygments_lexer": "ipython3",
   "version": "3.8.10"
  },
  "orig_nbformat": 4,
  "vscode": {
   "interpreter": {
    "hash": "916dbcbb3f70747c44a77c7bcd40155683ae19c65e1c03b4aa3499c5328201f1"
   }
  }
 },
 "nbformat": 4,
 "nbformat_minor": 2
}

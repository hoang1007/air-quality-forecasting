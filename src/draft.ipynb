{
 "cells": [
  {
   "cell_type": "code",
   "execution_count": 2,
   "metadata": {},
   "outputs": [
    {
     "name": "stderr",
     "output_type": "stream",
     "text": [
      "/home/hoang/.local/lib/python3.8/site-packages/tqdm/auto.py:22: TqdmWarning: IProgress not found. Please update jupyter and ipywidgets. See https://ipywidgets.readthedocs.io/en/stable/user_install.html\n",
      "  from .autonotebook import tqdm as notebook_tqdm\n"
     ]
    }
   ],
   "source": [
    "from dataset.datamodule import AirQualityDataset\n",
    "import torch\n",
    "import pandas as pd"
   ]
  },
  {
   "cell_type": "code",
   "execution_count": 3,
   "metadata": {},
   "outputs": [
    {
     "name": "stdout",
     "output_type": "stream",
     "text": [
      "drop station S0000143-Thu vien - DHQG Ha Noi\n",
      "drop station S0000238-He thong lien cap Lomonoxop - Mam non\n",
      "drop station S0000210-Truong THCS Yen So\n",
      "drop station S0000370-Ba Trieu\n",
      "drop station S0000143-Thu vien - DHQG Ha Noi\n",
      "drop station S0000238-He thong lien cap Lomonoxop - Mam non\n",
      "drop station S0000210-Truong THCS Yen So\n",
      "drop station S0000143-Thu vien - DHQG Ha Noi\n",
      "drop station S0000238-He thong lien cap Lomonoxop - Mam non\n",
      "drop station S0000143-Thu vien - DHQG Ha Noi\n",
      "drop station S0000238-He thong lien cap Lomonoxop - Mam non\n",
      "drop station S0000210-Truong THCS Yen So\n",
      "drop station S0000370-Ba Trieu\n",
      "drop station S0000370-Ba Trieu\n",
      "drop station S0000143-Thu vien - DHQG Ha Noi\n",
      "drop station S0000143-Thu vien - DHQG Ha Noi\n",
      "drop station S0000238-He thong lien cap Lomonoxop - Mam non\n",
      "drop station S0000210-Truong THCS Yen So\n",
      "drop station S0000370-Ba Trieu\n",
      "drop station S0000370-Ba Trieu\n",
      "drop station S0000143-Thu vien - DHQG Ha Noi\n",
      "drop station S0000238-He thong lien cap Lomonoxop - Mam non\n",
      "drop station S0000370-Ba Trieu\n",
      "drop station S0000370-Ba Trieu\n",
      "drop station S0000143-Thu vien - DHQG Ha Noi\n",
      "drop station S0000238-He thong lien cap Lomonoxop - Mam non\n",
      "drop station S0000210-Truong THCS Yen So\n",
      "drop station S0000238-He thong lien cap Lomonoxop - Mam non\n",
      "drop station S0000210-Truong THCS Yen So\n",
      "drop station S0000143-Thu vien - DHQG Ha Noi\n",
      "drop station S0000137-Ngoc Khanh\n",
      "drop station S0000143-Thu vien - DHQG Ha Noi\n",
      "drop station S0000137-Ngoc Khanh\n",
      "drop station S0000210-Truong THCS Yen So\n",
      "drop station S0000143-Thu vien - DHQG Ha Noi\n",
      "drop station S0000238-He thong lien cap Lomonoxop - Mam non\n",
      "drop station S0000210-Truong THCS Yen So\n",
      "drop station S0000210-Truong THCS Yen So\n",
      "drop station S0000370-Ba Trieu\n",
      "drop station S0000143-Thu vien - DHQG Ha Noi\n",
      "drop station S0000137-Ngoc Khanh\n",
      "drop station S0000143-Thu vien - DHQG Ha Noi\n",
      "drop station S0000137-Ngoc Khanh\n",
      "drop station S0000143-Thu vien - DHQG Ha Noi\n",
      "drop station S0000137-Ngoc Khanh\n",
      "drop station S0000143-Thu vien - DHQG Ha Noi\n",
      "drop station S0000238-He thong lien cap Lomonoxop - Mam non\n",
      "drop station S0000143-Thu vien - DHQG Ha Noi\n",
      "drop station S0000137-Ngoc Khanh\n",
      "drop station S0000143-Thu vien - DHQG Ha Noi\n",
      "drop station S0000238-He thong lien cap Lomonoxop - Mam non\n",
      "drop station S0000143-Thu vien - DHQG Ha Noi\n",
      "drop station S0000137-Ngoc Khanh\n",
      "drop station S0000143-Thu vien - DHQG Ha Noi\n",
      "drop station S0000238-He thong lien cap Lomonoxop - Mam non\n",
      "drop station S0000210-Truong THCS Yen So\n",
      "drop station S0000143-Thu vien - DHQG Ha Noi\n",
      "drop station S0000238-He thong lien cap Lomonoxop - Mam non\n",
      "drop station S0000210-Truong THCS Yen So\n",
      "drop station S0000143-Thu vien - DHQG Ha Noi\n",
      "drop station S0000137-Ngoc Khanh\n",
      "drop station S0000370-Ba Trieu\n",
      "drop station S0000143-Thu vien - DHQG Ha Noi\n",
      "drop station S0000370-Ba Trieu\n",
      "drop station S0000143-Thu vien - DHQG Ha Noi\n",
      "drop station S0000370-Ba Trieu\n",
      "drop station S0000143-Thu vien - DHQG Ha Noi\n",
      "drop station S0000137-Ngoc Khanh\n",
      "drop station S0000370-Ba Trieu\n",
      "drop station S0000370-Ba Trieu\n",
      "drop station S0000210-Truong THCS Yen So\n",
      "drop station S0000143-Thu vien - DHQG Ha Noi\n",
      "drop station S0000238-He thong lien cap Lomonoxop - Mam non\n",
      "drop station S0000370-Ba Trieu\n",
      "drop station S0000143-Thu vien - DHQG Ha Noi\n",
      "drop station S0000143-Thu vien - DHQG Ha Noi\n",
      "drop station S0000238-He thong lien cap Lomonoxop - Mam non\n",
      "drop station S0000210-Truong THCS Yen So\n",
      "drop station S0000143-Thu vien - DHQG Ha Noi\n",
      "drop station S0000238-He thong lien cap Lomonoxop - Mam non\n",
      "drop station S0000210-Truong THCS Yen So\n",
      "drop station S0000143-Thu vien - DHQG Ha Noi\n",
      "drop station S0000210-Truong THCS Yen So\n",
      "drop station S0000143-Thu vien - DHQG Ha Noi\n",
      "drop station S0000370-Ba Trieu\n",
      "drop station S0000143-Thu vien - DHQG Ha Noi\n",
      "drop station S0000210-Truong THCS Yen So\n",
      "drop station S0000370-Ba Trieu\n",
      "drop station S0000143-Thu vien - DHQG Ha Noi\n",
      "drop station S0000143-Thu vien - DHQG Ha Noi\n",
      "drop station S0000238-He thong lien cap Lomonoxop - Mam non\n",
      "drop station S0000370-Ba Trieu\n",
      "drop station S0000143-Thu vien - DHQG Ha Noi\n",
      "drop station S0000143-Thu vien - DHQG Ha Noi\n",
      "drop station S0000238-He thong lien cap Lomonoxop - Mam non\n",
      "drop station S0000143-Thu vien - DHQG Ha Noi\n",
      "drop station S0000370-Ba Trieu\n",
      "drop station S0000370-Ba Trieu\n"
     ]
    }
   ],
   "source": [
    "def fillnan_fn(serie: pd.Series):\n",
    "    return serie.interpolate(option=\"time\").bfill()\n",
    "\n",
    "dts = AirQualityDataset(root=\"../data\", data_set=\"test\", fillnan_fn=fillnan_fn)"
   ]
  },
  {
   "cell_type": "code",
   "execution_count": 4,
   "metadata": {},
   "outputs": [
    {
     "data": {
      "text/plain": [
       "torch.Size([8, 168, 3])"
      ]
     },
     "execution_count": 4,
     "metadata": {},
     "output_type": "execute_result"
    }
   ],
   "source": [
    "dts[3][\"features\"].shape"
   ]
  }
 ],
 "metadata": {
  "kernelspec": {
   "display_name": "Python 3.8.10 64-bit",
   "language": "python",
   "name": "python3"
  },
  "language_info": {
   "codemirror_mode": {
    "name": "ipython",
    "version": 3
   },
   "file_extension": ".py",
   "mimetype": "text/x-python",
   "name": "python",
   "nbconvert_exporter": "python",
   "pygments_lexer": "ipython3",
   "version": "3.8.10"
  },
  "orig_nbformat": 4,
  "vscode": {
   "interpreter": {
    "hash": "916dbcbb3f70747c44a77c7bcd40155683ae19c65e1c03b4aa3499c5328201f1"
   }
  }
 },
 "nbformat": 4,
 "nbformat_minor": 2
}

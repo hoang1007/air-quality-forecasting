{
 "cells": [
  {
   "cell_type": "code",
   "execution_count": 1,
   "metadata": {},
   "outputs": [
    {
     "name": "stderr",
     "output_type": "stream",
     "text": [
      "/home/hoang/.local/lib/python3.8/site-packages/tqdm/auto.py:22: TqdmWarning: IProgress not found. Please update jupyter and ipywidgets. See https://ipywidgets.readthedocs.io/en/stable/user_install.html\n",
      "  from .autonotebook import tqdm as notebook_tqdm\n"
     ]
    }
   ],
   "source": [
    "from dataset import *\n",
    "from dataset.raw_data import air_quality_test_data, air_quality_train_data\n",
    "import torch\n",
    "import pandas as pd\n",
    "import matplotlib.pyplot as plt\n",
    "import numpy as np\n",
    "import math"
   ]
  },
  {
   "cell_type": "code",
   "execution_count": 2,
   "metadata": {},
   "outputs": [
    {
     "data": {
      "text/plain": [
       "torch.Size([5, 3, 4])"
      ]
     },
     "execution_count": 2,
     "metadata": {},
     "output_type": "execute_result"
    }
   ],
   "source": [
    "x = torch.rand(5, 4)\n",
    "\n",
    "torch.stack((x, x, x), dim=1).shape"
   ]
  },
  {
   "cell_type": "code",
   "execution_count": 3,
   "metadata": {},
   "outputs": [],
   "source": [
    "from utils.functional import scale_softmax"
   ]
  },
  {
   "cell_type": "code",
   "execution_count": 4,
   "metadata": {},
   "outputs": [
    {
     "data": {
      "text/plain": [
       "tensor([0.2372, 0.2168, 0.3202, 0.2257])"
      ]
     },
     "execution_count": 4,
     "metadata": {},
     "output_type": "execute_result"
    }
   ],
   "source": [
    "x = torch.tensor([0.1, 0.01, 0.4, 0.05], dtype=torch.float)\n",
    "\n",
    "torch.softmax(x, dim=0)"
   ]
  },
  {
   "cell_type": "code",
   "execution_count": 6,
   "metadata": {},
   "outputs": [],
   "source": [
    "from hydra import initialize, compose\n",
    "import os\n",
    "with initialize(version_base=None, config_path=os.path.relpath(\"/home/hoang/Documents/CodeSpace/air-quality-forecasting/config/model\")):\n",
    "  cfg = compose(config_name=\"gagnn.yaml\")"
   ]
  },
  {
   "cell_type": "code",
   "execution_count": 7,
   "metadata": {},
   "outputs": [],
   "source": [
    "dts = AirQualityDataset2(\n",
    "        \"../data\",\n",
    "        normalize_mean={\"humidity\":0, \"temperature\": 0, \"PM2.5\": 0},\n",
    "        normalize_std={\"humidity\": 1, \"temperature\": 1, \"PM2.5\": 1},\n",
    "        # normalize_mean=cfg.data.normalize_mean,\n",
    "        # normalize_std=cfg.data.normalize_std,\n",
    "        droprate=0.5,\n",
    "        fillnan_fn=lambda x: x.interpolate(option=\"spline\").bfill()\n",
    "    )"
   ]
  },
  {
   "cell_type": "code",
   "execution_count": 8,
   "metadata": {},
   "outputs": [
    {
     "data": {
      "text/plain": [
       "tensor([0.0553, 0.0131])"
      ]
     },
     "execution_count": 8,
     "metadata": {},
     "output_type": "execute_result"
    }
   ],
   "source": [
    "dts[0][\"src_locs\"].std(0)"
   ]
  },
  {
   "cell_type": "code",
   "execution_count": 9,
   "metadata": {},
   "outputs": [
    {
     "data": {
      "text/plain": [
       "tensor([[74.0300, 31.5300, 32.8500,  ...,  0.8710,  0.4167,  0.2917],\n",
       "        [73.3200, 31.4800, 32.1200,  ...,  0.8710,  0.4167,  0.2917],\n",
       "        [78.8000, 30.8800, 36.8300,  ...,  0.8710,  0.4167,  0.2917],\n",
       "        ...,\n",
       "        [80.1900, 33.5100, 37.1800,  ...,  0.0968,  0.5000,  0.2917],\n",
       "        [72.7300, 34.9400, 37.9900,  ...,  0.0968,  0.5000,  0.2917],\n",
       "        [68.7100, 36.0200, 36.6800,  ...,  0.0968,  0.5000,  0.2917]])"
      ]
     },
     "execution_count": 9,
     "metadata": {},
     "output_type": "execute_result"
    }
   ],
   "source": [
    "dts[0][\"features\"][0]"
   ]
  },
  {
   "cell_type": "code",
   "execution_count": 10,
   "metadata": {},
   "outputs": [
    {
     "data": {
      "text/plain": [
       "tensor([34.5100, 34.5300, 33.5700, 32.8900, 35.3300, 36.5400, 46.4200, 49.2300,\n",
       "        64.2100, 63.9500, 59.7800, 44.6400, 35.2800, 29.8800, 29.2300, 29.0300,\n",
       "        27.9500, 27.7200, 30.0300, 33.4400, 35.5800, 38.3600, 38.7200, 37.0300])"
      ]
     },
     "execution_count": 10,
     "metadata": {},
     "output_type": "execute_result"
    }
   ],
   "source": [
    "dts[0][\"src_nexts\"][0]"
   ]
  },
  {
   "cell_type": "code",
   "execution_count": 11,
   "metadata": {},
   "outputs": [],
   "source": [
    "def get_neighbors(dt, num: int = 5):\n",
    "    y = dt[\"gt_target\"]\n",
    "    x = dt[\"src_nexts\"]\n",
    "\n",
    "    errs = []\n",
    "    for i in range(x.size(0)):\n",
    "        err = ((y - x[i]) / y).abs().mean()\n",
    "        errs.append(err.item())\n",
    "\n",
    "    return dt[\"target_idx\"], errs"
   ]
  },
  {
   "cell_type": "code",
   "execution_count": 12,
   "metadata": {},
   "outputs": [
    {
     "ename": "KeyError",
     "evalue": "'gt_target'",
     "output_type": "error",
     "traceback": [
      "\u001b[0;31m---------------------------------------------------------------------------\u001b[0m",
      "\u001b[0;31mKeyError\u001b[0m                                  Traceback (most recent call last)",
      "\u001b[1;32m/home/hoang/Documents/CodeSpace/air-quality-forecasting/src/draft.ipynb Cell 11\u001b[0m in \u001b[0;36m<cell line: 8>\u001b[0;34m()\u001b[0m\n\u001b[1;32m      <a href='vscode-notebook-cell:/home/hoang/Documents/CodeSpace/air-quality-forecasting/src/draft.ipynb#X13sZmlsZQ%3D%3D?line=5'>6</a>\u001b[0m     corr\u001b[39m.\u001b[39mappend(l)\n\u001b[1;32m      <a href='vscode-notebook-cell:/home/hoang/Documents/CodeSpace/air-quality-forecasting/src/draft.ipynb#X13sZmlsZQ%3D%3D?line=7'>8</a>\u001b[0m \u001b[39mfor\u001b[39;00m i \u001b[39min\u001b[39;00m \u001b[39mrange\u001b[39m(\u001b[39mlen\u001b[39m(dts)):\n\u001b[0;32m----> <a href='vscode-notebook-cell:/home/hoang/Documents/CodeSpace/air-quality-forecasting/src/draft.ipynb#X13sZmlsZQ%3D%3D?line=8'>9</a>\u001b[0m     tar_idx, errs \u001b[39m=\u001b[39m get_neighbors(dts[i], num\u001b[39m=\u001b[39;49m\u001b[39m5\u001b[39;49m)\n\u001b[1;32m     <a href='vscode-notebook-cell:/home/hoang/Documents/CodeSpace/air-quality-forecasting/src/draft.ipynb#X13sZmlsZQ%3D%3D?line=10'>11</a>\u001b[0m     \u001b[39mfor\u001b[39;00m src_idx \u001b[39min\u001b[39;00m \u001b[39mrange\u001b[39m(\u001b[39m11\u001b[39m):\n\u001b[1;32m     <a href='vscode-notebook-cell:/home/hoang/Documents/CodeSpace/air-quality-forecasting/src/draft.ipynb#X13sZmlsZQ%3D%3D?line=11'>12</a>\u001b[0m         corr[tar_idx][src_idx] \u001b[39m+\u001b[39m\u001b[39m=\u001b[39m errs[src_idx]\n",
      "\u001b[1;32m/home/hoang/Documents/CodeSpace/air-quality-forecasting/src/draft.ipynb Cell 11\u001b[0m in \u001b[0;36mget_neighbors\u001b[0;34m(dt, num)\u001b[0m\n\u001b[1;32m      <a href='vscode-notebook-cell:/home/hoang/Documents/CodeSpace/air-quality-forecasting/src/draft.ipynb#X13sZmlsZQ%3D%3D?line=0'>1</a>\u001b[0m \u001b[39mdef\u001b[39;00m \u001b[39mget_neighbors\u001b[39m(dt, num: \u001b[39mint\u001b[39m \u001b[39m=\u001b[39m \u001b[39m5\u001b[39m):\n\u001b[0;32m----> <a href='vscode-notebook-cell:/home/hoang/Documents/CodeSpace/air-quality-forecasting/src/draft.ipynb#X13sZmlsZQ%3D%3D?line=1'>2</a>\u001b[0m     y \u001b[39m=\u001b[39m dt[\u001b[39m\"\u001b[39;49m\u001b[39mgt_target\u001b[39;49m\u001b[39m\"\u001b[39;49m]\n\u001b[1;32m      <a href='vscode-notebook-cell:/home/hoang/Documents/CodeSpace/air-quality-forecasting/src/draft.ipynb#X13sZmlsZQ%3D%3D?line=2'>3</a>\u001b[0m     x \u001b[39m=\u001b[39m dt[\u001b[39m\"\u001b[39m\u001b[39msrc_nexts\u001b[39m\u001b[39m\"\u001b[39m]\n\u001b[1;32m      <a href='vscode-notebook-cell:/home/hoang/Documents/CodeSpace/air-quality-forecasting/src/draft.ipynb#X13sZmlsZQ%3D%3D?line=4'>5</a>\u001b[0m     errs \u001b[39m=\u001b[39m []\n",
      "\u001b[0;31mKeyError\u001b[0m: 'gt_target'"
     ]
    }
   ],
   "source": [
    "corr = []\n",
    "for i in range(4):\n",
    "    l = []\n",
    "    for j in range(11):\n",
    "        l.append(0)\n",
    "    corr.append(l)\n",
    "\n",
    "for i in range(len(dts)):\n",
    "    tar_idx, errs = get_neighbors(dts[i], num=5)\n",
    "\n",
    "    for src_idx in range(11):\n",
    "        corr[tar_idx][src_idx] += errs[src_idx]\n",
    "\n",
    "corr = torch.tensor(corr)"
   ]
  },
  {
   "cell_type": "code",
   "execution_count": null,
   "metadata": {},
   "outputs": [
    {
     "data": {
      "text/plain": [
       "tensor([[ 3, 10,  9,  1,  2,  8,  6],\n",
       "        [ 3, 10,  9,  1,  5,  4,  6],\n",
       "        [ 3, 10,  2,  9,  1,  5,  4],\n",
       "        [ 8,  9,  7,  3, 10,  2,  6]])"
      ]
     },
     "execution_count": 55,
     "metadata": {},
     "output_type": "execute_result"
    }
   ],
   "source": [
    "torch.topk(corr, k=7, largest=True).indices"
   ]
  },
  {
   "cell_type": "code",
   "execution_count": null,
   "metadata": {},
   "outputs": [],
   "source": [
    "locs = torch.cat((dts.data[\"X_locs\"], dts.data[\"y_locs\"]), dim=0)\n",
    "mean_ = locs.min(0).values\n",
    "std_ = (locs.max(0).values - locs.min(0).values)"
   ]
  },
  {
   "cell_type": "code",
   "execution_count": null,
   "metadata": {},
   "outputs": [
    {
     "data": {
      "text/plain": [
       "tensor([0.1794, 0.0830])"
      ]
     },
     "execution_count": 38,
     "metadata": {},
     "output_type": "execute_result"
    }
   ],
   "source": [
    "std_"
   ]
  },
  {
   "cell_type": "code",
   "execution_count": null,
   "metadata": {},
   "outputs": [
    {
     "data": {
      "text/plain": [
       "tensor([[0.9527, 0.7200],\n",
       "        [0.7023, 0.8667],\n",
       "        [0.5786, 0.8568],\n",
       "        ...,\n",
       "        [0.5488, 0.0000],\n",
       "        [0.8056, 0.7781],\n",
       "        [0.6650, 0.5654]])"
      ]
     },
     "execution_count": 36,
     "metadata": {},
     "output_type": "execute_result"
    }
   ],
   "source": [
    "(locs - mean_) / std_"
   ]
  },
  {
   "cell_type": "code",
   "execution_count": null,
   "metadata": {},
   "outputs": [],
   "source": [
    "import utils.functional as F\n",
    "\n",
    "def predict(i: int, top_k: int = None, beta=1.0, fill_corr=True):\n",
    "    corr = torch.tensor([[ 3, 10,  9,  1,  2,  8,  6],\n",
    "        [ 3, 10,  9,  1,  5,  4,  6],\n",
    "        [ 3, 10,  2,  9,  1,  5,  4],\n",
    "        [ 8,  9,  7,  3, 10,  2,  6]])\n",
    "    dt = dts[i]\n",
    "\n",
    "    if fill_corr:\n",
    "        tar_idx = dt[\"target_idx\"]\n",
    "        masks = corr[tar_idx]\n",
    "\n",
    "        src_locs = dt[\"src_locs\"][masks][None, ...]\n",
    "        tar_loc = dt[\"tar_loc\"][None, None, :]\n",
    "        src_vals = dt[\"src_nexts\"][masks]\n",
    "    else:\n",
    "        src_masks = dt[\"src_masks\"]\n",
    "\n",
    "        src_locs = dt[\"src_locs\"][src_masks][None, ...]\n",
    "        tar_loc = dt[\"tar_loc\"][None, None, :]\n",
    "        src_vals = dt[\"src_nexts\"][src_masks]\n",
    "\n",
    "    if top_k is None or top_k > src_locs.size(1):\n",
    "        top_k = src_locs.size(1)\n",
    "    \n",
    "    dists = F.euclidean_distances(src_locs, tar_loc).squeeze()\n",
    "    keep_ids = torch.topk(dists, k=top_k, largest=False).indices\n",
    "\n",
    "    src_locs = src_locs[:, keep_ids]\n",
    "    # pm25_idx = dts.feature_cols.index(\"PM2.5\")\n",
    "    src_vals = src_vals[keep_ids]\n",
    "    tar_val = dt[\"gt_target\"]\n",
    "\n",
    "\n",
    "    weights = F.inverse_distance_weighted(src_locs, tar_loc, beta=beta).squeeze(0)\n",
    "    pred = (src_vals * weights).sum(0)\n",
    "    \n",
    "    return pred, tar_val, dt[\"target_idx\"]"
   ]
  },
  {
   "cell_type": "code",
   "execution_count": null,
   "metadata": {},
   "outputs": [],
   "source": [
    "errors = [[], [], [], []]\n",
    "for i in range(len(dts)):\n",
    "    y_hat, y, tar_idx = predict(i, top_k=7)\n",
    "\n",
    "    err = ((y_hat - y) / y).abs().median()\n",
    "    # err = (pred - tar_val).abs().mean()\n",
    "    errors[tar_idx].append(err)"
   ]
  },
  {
   "cell_type": "code",
   "execution_count": null,
   "metadata": {},
   "outputs": [
    {
     "data": {
      "text/plain": [
       "<matplotlib.legend.Legend at 0x7f91ef4a68b0>"
      ]
     },
     "execution_count": 60,
     "metadata": {},
     "output_type": "execute_result"
    },
    {
     "data": {
      "image/png": "[encoded data removed]",
      "text/plain": [
       "<Figure size 432x288 with 1 Axes>"
      ]
     },
     "metadata": {
      "needs_background": "light"
     },
     "output_type": "display_data"
    }
   ],
   "source": [
    "i = 3\n",
    "beta = 2\n",
    "top_k = None\n",
    "fill_corr = True\n",
    "y_hat1, y1, _ = predict(i, beta=beta, top_k=top_k, fill_corr=fill_corr)\n",
    "y_hat2, y2, _ = predict(i + 1, beta=beta, top_k=top_k, fill_corr=fill_corr)\n",
    "\n",
    "plt.plot(y_hat1, \"r\")\n",
    "plt.plot(y_hat2, \"orange\")\n",
    "plt.plot(y1, \"g\")\n",
    "plt.plot(y2, \"y\")\n",
    "plt.legend([\n",
    "    \"y_hat1\", \"y_hat2\",\n",
    "    \"y1\", \"y2\"\n",
    "])"
   ]
  },
  {
   "cell_type": "code",
   "execution_count": null,
   "metadata": {},
   "outputs": [
    {
     "data": {
      "text/plain": [
       "<matplotlib.legend.Legend at 0x7f91ef541580>"
      ]
     },
     "execution_count": 59,
     "metadata": {},
     "output_type": "execute_result"
    },
    {
     "data": {
      "image/png": "[encoded data removed]",
      "text/plain": [
       "<Figure size 432x288 with 1 Axes>"
      ]
     },
     "metadata": {
      "needs_background": "light"
     },
     "output_type": "display_data"
    }
   ],
   "source": [
    "i = 3\n",
    "beta = 1\n",
    "top_k = 6\n",
    "fill_corr = False\n",
    "y_hat1, y1, _ = predict(i, beta=beta, top_k=top_k, fill_corr=fill_corr)\n",
    "y_hat2, y2, _ = predict(i + 1, beta=beta, top_k=top_k, fill_corr=fill_corr)\n",
    "\n",
    "plt.plot(y_hat1, \"r\")\n",
    "plt.plot(y_hat2, \"orange\")\n",
    "plt.plot(y1, \"g\")\n",
    "plt.plot(y2, \"y\")\n",
    "plt.legend([\n",
    "    \"y_hat1\", \"y_hat2\",\n",
    "    \"y1\", \"y2\"\n",
    "])"
   ]
  },
  {
   "cell_type": "code",
   "execution_count": null,
   "metadata": {},
   "outputs": [
    {
     "data": {
      "text/plain": [
       "[<matplotlib.lines.Line2D at 0x7f91ef460280>]"
      ]
     },
     "execution_count": 65,
     "metadata": {},
     "output_type": "execute_result"
    },
    {
     "data": {
      "image/png": "[encoded data removed]",
      "text/plain": [
       "<Figure size 432x288 with 1 Axes>"
      ]
     },
     "metadata": {
      "needs_background": "light"
     },
     "output_type": "display_data"
    }
   ],
   "source": [
    "y_hat, y, _ = predict(2, beta=1.0, fill_corr=True)\n",
    "plt.plot(y_hat, \"r\")\n",
    "plt.plot(y, \"g\")"
   ]
  },
  {
   "cell_type": "code",
   "execution_count": 36,
   "metadata": {},
   "outputs": [
    {
     "data": {
      "text/plain": [
       "[<matplotlib.lines.Line2D at 0x7f699f7a0190>]"
      ]
     },
     "execution_count": 36,
     "metadata": {},
     "output_type": "execute_result"
    },
    {
     "data": {
      "image/png": "[encoded data removed]",
      "text/plain": [
       "<Figure size 432x288 with 1 Axes>"
      ]
     },
     "metadata": {
      "needs_background": "light"
     },
     "output_type": "display_data"
    }
   ],
   "source": [
    "pm25idx = dts.feature_cols.index(\"PM2.5\")\n",
    "viewidx = 3\n",
    "dt = dts[1]\n",
    "pm25 = dt[\"features\"][..., pm25idx].reshape(11, 7, 24)\n",
    "plt.plot(pm25[2, viewidx], \"r\")\n",
    "plt.plot(pm25[3, viewidx], \"g\")\n",
    "plt.plot(pm25[10, viewidx], \"yellow\")\n",
    "# plt.plot(dt[\"src_nexts\"][7])"
   ]
  },
  {
   "cell_type": "code",
   "execution_count": null,
   "metadata": {},
   "outputs": [
    {
     "ename": "NameError",
     "evalue": "name 'errors' is not defined",
     "output_type": "error",
     "traceback": [
      "\u001b[0;31m---------------------------------------------------------------------------\u001b[0m",
      "\u001b[0;31mNameError\u001b[0m                                 Traceback (most recent call last)",
      "\u001b[1;32m/home/hoang/Documents/CodeSpace/air-quality-forecasting/src/draft.ipynb Cell 15\u001b[0m in \u001b[0;36m<cell line: 3>\u001b[0;34m()\u001b[0m\n\u001b[1;32m      <a href='vscode-notebook-cell:/home/hoang/Documents/CodeSpace/air-quality-forecasting/src/draft.ipynb#ch0000014?line=1'>2</a>\u001b[0m colors \u001b[39m=\u001b[39m [\u001b[39m\"\u001b[39m\u001b[39mr\u001b[39m\u001b[39m\"\u001b[39m, \u001b[39m\"\u001b[39m\u001b[39mb\u001b[39m\u001b[39m\"\u001b[39m, \u001b[39m\"\u001b[39m\u001b[39mg\u001b[39m\u001b[39m\"\u001b[39m, \u001b[39m\"\u001b[39m\u001b[39my\u001b[39m\u001b[39m\"\u001b[39m]\n\u001b[1;32m      <a href='vscode-notebook-cell:/home/hoang/Documents/CodeSpace/air-quality-forecasting/src/draft.ipynb#ch0000014?line=2'>3</a>\u001b[0m \u001b[39mfor\u001b[39;00m i \u001b[39min\u001b[39;00m \u001b[39mrange\u001b[39m(\u001b[39m4\u001b[39m):\n\u001b[0;32m----> <a href='vscode-notebook-cell:/home/hoang/Documents/CodeSpace/air-quality-forecasting/src/draft.ipynb#ch0000014?line=3'>4</a>\u001b[0m     plt\u001b[39m.\u001b[39mplot(errors[i], colors[i])\n\u001b[1;32m      <a href='vscode-notebook-cell:/home/hoang/Documents/CodeSpace/air-quality-forecasting/src/draft.ipynb#ch0000014?line=5'>6</a>\u001b[0m plt\u001b[39m.\u001b[39mlegend([\n\u001b[1;32m      <a href='vscode-notebook-cell:/home/hoang/Documents/CodeSpace/air-quality-forecasting/src/draft.ipynb#ch0000014?line=6'>7</a>\u001b[0m     \u001b[39m\"\u001b[39m\u001b[39mS0000328-Luong The Vinh\u001b[39m\u001b[39m\"\u001b[39m,\n\u001b[1;32m      <a href='vscode-notebook-cell:/home/hoang/Documents/CodeSpace/air-quality-forecasting/src/draft.ipynb#ch0000014?line=7'>8</a>\u001b[0m     \u001b[39m\"\u001b[39m\u001b[39mS0000367-To Hieu\u001b[39m\u001b[39m\"\u001b[39m,\n\u001b[1;32m      <a href='vscode-notebook-cell:/home/hoang/Documents/CodeSpace/air-quality-forecasting/src/draft.ipynb#ch0000014?line=8'>9</a>\u001b[0m     \u001b[39m\"\u001b[39m\u001b[39mS0000339-Kim Ma\u001b[39m\u001b[39m\"\u001b[39m,\n\u001b[1;32m     <a href='vscode-notebook-cell:/home/hoang/Documents/CodeSpace/air-quality-forecasting/src/draft.ipynb#ch0000014?line=9'>10</a>\u001b[0m     \u001b[39m\"\u001b[39m\u001b[39mS0000182-Truong THCS Trung Hoa\u001b[39m\u001b[39m\"\u001b[39m\n\u001b[1;32m     <a href='vscode-notebook-cell:/home/hoang/Documents/CodeSpace/air-quality-forecasting/src/draft.ipynb#ch0000014?line=10'>11</a>\u001b[0m ])\n\u001b[1;32m     <a href='vscode-notebook-cell:/home/hoang/Documents/CodeSpace/air-quality-forecasting/src/draft.ipynb#ch0000014?line=11'>12</a>\u001b[0m plt\u001b[39m.\u001b[39mshow()\n",
      "\u001b[0;31mNameError\u001b[0m: name 'errors' is not defined"
     ]
    }
   ],
   "source": [
    "# avg_errs = [sum(errors[i]) / (len(errors[i]) + 1e-8) for i in range(4)]\n",
    "colors = [\"r\", \"b\", \"g\", \"y\"]\n",
    "for i in range(4):\n",
    "    plt.plot(errors[i], colors[i])\n",
    "\n",
    "plt.legend([\n",
    "    \"S0000328-Luong The Vinh\",\n",
    "    \"S0000367-To Hieu\",\n",
    "    \"S0000339-Kim Ma\",\n",
    "    \"S0000182-Truong THCS Trung Hoa\"\n",
    "])\n",
    "plt.show()"
   ]
  },
  {
   "cell_type": "code",
   "execution_count": null,
   "metadata": {},
   "outputs": [
    {
     "data": {
      "text/plain": [
       "<matplotlib.legend.Legend at 0x7fb4582660a0>"
      ]
     },
     "execution_count": 11,
     "metadata": {},
     "output_type": "execute_result"
    },
    {
     "data": {
      "image/png": "[encoded data removed]",
      "text/plain": [
       "<Figure size 432x288 with 1 Axes>"
      ]
     },
     "metadata": {
      "needs_background": "light"
     },
     "output_type": "display_data"
    }
   ],
   "source": [
    "plt.plot(dts.data[\"X_locs\"][:, 0], dts.data[\"X_locs\"][:, 1], \"ro\")\n",
    "for i in range(4):\n",
    "    colors = [\"gx\", \"yx\", \"bx\", \"g*\"]\n",
    "    plt.plot(dts.data[\"y_locs\"][i, 0], dts.data[\"y_locs\"][i, 1], colors[i])\n",
    "plt.plot(dts.data[\"X_locs\"][7, 0], dts.data[\"X_locs\"][7, 1], \"b*\")\n",
    "plt.legend([\n",
    "    \"ffff\",\n",
    "    \"S0000328-Luong The Vinh\",\n",
    "    \"S0000367-To Hieu\",\n",
    "    \"S0000339-Kim Ma\",\n",
    "    \"S0000182-Truong THCS Trung Hoa\"\n",
    "], loc=\"lower right\")"
   ]
  },
  {
   "cell_type": "code",
   "execution_count": null,
   "metadata": {},
   "outputs": [
    {
     "data": {
      "text/plain": [
       "torch.Size([11, 24])"
      ]
     },
     "execution_count": 45,
     "metadata": {},
     "output_type": "execute_result"
    }
   ],
   "source": [
    "dt[\"src_nexts\"].shape"
   ]
  },
  {
   "cell_type": "code",
   "execution_count": null,
   "metadata": {},
   "outputs": [
    {
     "data": {
      "text/plain": [
       "torch.Size([11, 7])"
      ]
     },
     "execution_count": 9,
     "metadata": {},
     "output_type": "execute_result"
    }
   ],
   "source": [
    "dt[\"features\"][4][:11].shape"
   ]
  },
  {
   "cell_type": "code",
   "execution_count": null,
   "metadata": {},
   "outputs": [
    {
     "data": {
      "text/plain": [
       "(tensor([105.8241,  21.0317]), 2)"
      ]
     },
     "execution_count": 9,
     "metadata": {},
     "output_type": "execute_result"
    }
   ],
   "source": [
    "dt[\"tar_loc\"], dt[\"target_idx\"]"
   ]
  },
  {
   "cell_type": "code",
   "execution_count": null,
   "metadata": {},
   "outputs": [
    {
     "data": {
      "text/plain": [
       "tensor([ 21.7400,  22.0600,  17.5300,  17.0200,  22.0600,  22.3300,  32.6200,\n",
       "         68.2600, 108.1800,  86.6500,  69.7300,  43.5700,  25.9800,  19.4300,\n",
       "         15.1700,  15.9000,  15.0100,  14.7300,  18.1400,  18.6600,  26.1100,\n",
       "         30.2800,  20.8600,  18.1600])"
      ]
     },
     "execution_count": 11,
     "metadata": {},
     "output_type": "execute_result"
    }
   ],
   "source": [
    "dt[\"gt_target\"]"
   ]
  },
  {
   "cell_type": "code",
   "execution_count": null,
   "metadata": {},
   "outputs": [
    {
     "ename": "KeyError",
     "evalue": "'mask'",
     "output_type": "error",
     "traceback": [
      "\u001b[0;31m---------------------------------------------------------------------------\u001b[0m",
      "\u001b[0;31mKeyError\u001b[0m                                  Traceback (most recent call last)",
      "\u001b[1;32m/home/hoang/Documents/CodeSpace/air-quality-forecasting/src/draft.ipynb Cell 16\u001b[0m in \u001b[0;36m<cell line: 4>\u001b[0;34m()\u001b[0m\n\u001b[1;32m      <a href='vscode-notebook-cell:/home/hoang/Documents/CodeSpace/air-quality-forecasting/src/draft.ipynb#ch0000017?line=1'>2</a>\u001b[0m loader \u001b[39m=\u001b[39m DataLoader(dts, batch_size\u001b[39m=\u001b[39m\u001b[39m32\u001b[39m)\n\u001b[1;32m      <a href='vscode-notebook-cell:/home/hoang/Documents/CodeSpace/air-quality-forecasting/src/draft.ipynb#ch0000017?line=3'>4</a>\u001b[0m \u001b[39mfor\u001b[39;00m batch \u001b[39min\u001b[39;00m loader:\n\u001b[0;32m----> <a href='vscode-notebook-cell:/home/hoang/Documents/CodeSpace/air-quality-forecasting/src/draft.ipynb#ch0000017?line=4'>5</a>\u001b[0m     \u001b[39mprint\u001b[39m(batch[\u001b[39m\"\u001b[39;49m\u001b[39mmask\u001b[39;49m\u001b[39m\"\u001b[39;49m])\n\u001b[1;32m      <a href='vscode-notebook-cell:/home/hoang/Documents/CodeSpace/air-quality-forecasting/src/draft.ipynb#ch0000017?line=5'>6</a>\u001b[0m     \u001b[39mbreak\u001b[39;00m\n",
      "\u001b[0;31mKeyError\u001b[0m: 'mask'"
     ]
    }
   ],
   "source": [
    "from torch.utils.data import DataLoader\n",
    "loader = DataLoader(dts, batch_size=32)\n",
    "\n",
    "for batch in loader:\n",
    "    print(batch[\"mask\"])\n",
    "    break"
   ]
  },
  {
   "cell_type": "code",
   "execution_count": null,
   "metadata": {},
   "outputs": [
    {
     "name": "stderr",
     "output_type": "stream",
     "text": [
      "/home/hoang/.local/lib/python3.8/site-packages/torchmetrics/utilities/prints.py:36: UserWarning: Torchmetrics v0.9 introduced a new argument class property called `full_state_update` that has\n",
      "                not been set for this class (SMAPE). The property determines if `update` by\n",
      "                default needs access to the full metric state. If this is not the case, significant speedups can be\n",
      "                achieved and we recommend setting this to `False`.\n",
      "                We provide an checking function\n",
      "                `from torchmetrics.utilities import check_forward_no_full_state`\n",
      "                that can be used to check if the `full_state_update=True` (old and potential slower behaviour,\n",
      "                default for now) or if `full_state_update=False` can be used safely.\n",
      "                \n",
      "  warnings.warn(*args, **kwargs)\n"
     ]
    }
   ],
   "source": [
    "from model.layers import InverseDistanceAttention"
   ]
  },
  {
   "cell_type": "code",
   "execution_count": null,
   "metadata": {},
   "outputs": [],
   "source": [
    "dt = dts[4]"
   ]
  },
  {
   "cell_type": "code",
   "execution_count": null,
   "metadata": {},
   "outputs": [
    {
     "data": {
      "text/plain": [
       "[<matplotlib.lines.Line2D at 0x7f1d2a32e460>]"
      ]
     },
     "execution_count": 14,
     "metadata": {},
     "output_type": "execute_result"
    },
    {
     "data": {
      "image/png": "[encoded data removed]",
      "text/plain": [
       "<Figure size 432x288 with 1 Axes>"
      ]
     },
     "metadata": {
      "needs_background": "light"
     },
     "output_type": "display_data"
    }
   ],
   "source": [
    "plt.plot(dt[\"src_locs\"][:, 0], dt[\"src_locs\"][:, 1], \"ro\")\n",
    "plt.plot(dt[\"tar_loc\"][None, 0], dt[\"tar_loc\"][None, 1], \"gx\")"
   ]
  },
  {
   "cell_type": "code",
   "execution_count": null,
   "metadata": {},
   "outputs": [],
   "source": [
    "src_grids, tar_grid = InverseDistanceAttention({\"attn_dropout\": 0.1}, 4).locs_to_grid(dt[\"src_locs\"].unsqueeze(0), dt[\"tar_loc\"][None, None, :])"
   ]
  },
  {
   "cell_type": "code",
   "execution_count": null,
   "metadata": {},
   "outputs": [
    {
     "data": {
      "text/plain": [
       "[<matplotlib.lines.Line2D at 0x7f1d2a1d83d0>]"
      ]
     },
     "execution_count": 16,
     "metadata": {},
     "output_type": "execute_result"
    },
    {
     "data": {
      "image/png": "[encoded data removed]",
      "text/plain": [
       "<Figure size 432x288 with 1 Axes>"
      ]
     },
     "metadata": {
      "needs_background": "light"
     },
     "output_type": "display_data"
    }
   ],
   "source": [
    "plt.plot(src_grids[0, :, 0], src_grids[0, :, 1], \"ro\")\n",
    "plt.plot(tar_grid[0, :, 0], tar_grid[0, :, 1], \"gx\")"
   ]
  }
 ],
 "metadata": {
  "kernelspec": {
   "display_name": "Python 3.8.10 64-bit",
   "language": "python",
   "name": "python3"
  },
  "language_info": {
   "codemirror_mode": {
    "name": "ipython",
    "version": 3
   },
   "file_extension": ".py",
   "mimetype": "text/x-python",
   "name": "python",
   "nbconvert_exporter": "python",
   "pygments_lexer": "ipython3",
   "version": "3.8.10"
  },
  "orig_nbformat": 4,
  "vscode": {
   "interpreter": {
    "hash": "916dbcbb3f70747c44a77c7bcd40155683ae19c65e1c03b4aa3499c5328201f1"
   }
  }
 },
 "nbformat": 4,
 "nbformat_minor": 2
}

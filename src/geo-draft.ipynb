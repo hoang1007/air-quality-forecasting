{
 "cells": [
  {
   "cell_type": "code",
   "execution_count": 1,
   "metadata": {},
   "outputs": [
    {
     "name": "stderr",
     "output_type": "stream",
     "text": [
      "/home/hoang/.local/lib/python3.8/site-packages/tqdm/auto.py:22: TqdmWarning: IProgress not found. Please update jupyter and ipywidgets. See https://ipywidgets.readthedocs.io/en/stable/user_install.html\n",
      "  from .autonotebook import tqdm as notebook_tqdm\n"
     ]
    }
   ],
   "source": [
    "from dataset import AirQualityDatasetV2, AirQualityDataModuleV2\n",
    "from hydra import initialize, compose\n",
    "import os\n",
    "import torch\n",
    "from torch import nn\n",
    "import torch.nn.functional as F\n",
    "with initialize(version_base=None, config_path=os.path.relpath(\"/home/hoang/Documents/CodeSpace/air-quality-forecasting/config\")):\n",
    "  cfg = compose(config_name=\"daqff.yaml\")"
   ]
  },
  {
   "cell_type": "code",
   "execution_count": 2,
   "metadata": {},
   "outputs": [],
   "source": [
    "dtm = AirQualityDataModuleV2(\n",
    "        \"../data\",\n",
    "        # normalize_mean={\"humidity\":0, \"temperature\": 0, \"PM2.5\": 0},\n",
    "        # normalize_std={\"humidity\": 1, \"temperature\": 1, \"PM2.5\": 1},\n",
    "        normalize_mean=cfg.data.normalize_mean,\n",
    "        normalize_std=cfg.data.normalize_std,\n",
    "        droprate=0.5,\n",
    "        split_mode=\"timestamp\",\n",
    "        fillnan_fn=lambda x: x.interpolate(option=\"spline\").bfill(),\n",
    "        train_ratio=0.75,\n",
    "        batch_size=1\n",
    "    )\n",
    "dtm.setup()"
   ]
  },
  {
   "cell_type": "code",
   "execution_count": 21,
   "metadata": {},
   "outputs": [],
   "source": [
    "from utils.functional import scale_softmax\n",
    "from tqdm import tqdm\n",
    "\n",
    "\n",
    "class SpatialModel(nn.Module):\n",
    "    def __init__(self):\n",
    "        super().__init__()\n",
    "\n",
    "        self.linear = nn.Linear(2, 32)\n",
    "        self.linear2 = nn.Linear(32, 1)\n",
    "    \n",
    "    def forward(\n",
    "        self,\n",
    "        srcs: torch.Tensor,\n",
    "        src_locs: torch.Tensor,\n",
    "        tar_loc: torch.Tensor,\n",
    "        src_masks: torch.Tensor\n",
    "    ):\n",
    "        assert srcs.size(0) == 1\n",
    "        # src_locs.shape == (n_stations, 2)\n",
    "        # tar_loc.shape == (2,)\n",
    "        # src_locs.shape == (n_stations, 24)\n",
    "\n",
    "        src_masks = src_masks.squeeze(-1)\n",
    "        src_locs = src_locs.squeeze(-1)[src_masks]\n",
    "        srcs = srcs.squeeze(-1)[src_masks]\n",
    "\n",
    "        loc_mean_ = srcs.new_tensor([105.6796,  20.9672])\n",
    "        loc_std_ = srcs.new_tensor([0.1794, 0.0830])\n",
    "\n",
    "        locs = torch.cat((src_locs, tar_loc))\n",
    "        # norm locs\n",
    "        locs = (locs - loc_mean_) / loc_std_\n",
    "        # (n_st, 32)\n",
    "        geo_feats = self.linear(locs)\n",
    "\n",
    "        src_feats = geo_feats[:-1].contiguous()\n",
    "        tar_feats = geo_feats[-1].contiguous().unsqueeze(0)\n",
    "\n",
    "        # weights = torch.matmul(src_feats, tar_feats.t())\n",
    "        weights = (src_feats - tar_feats).abs().pow(-2)\n",
    "        weights = weights / weights.sum(0)\n",
    "        # weights = torch.softmax(weights, dim=0)\n",
    "        weights = torch.softmax(self.linear2(weights), dim=0)\n",
    "\n",
    "        # print(weights)\n",
    "\n",
    "        # print(srcs.shape, weights.shape)\n",
    "\n",
    "        preds = (srcs * weights).sum(0)\n",
    "\n",
    "        return preds\n",
    "    \n",
    "    def compute_loss(self, input, target):\n",
    "        loss = (input - target).pow(2).mean().sqrt()\n",
    "\n",
    "        return loss\n",
    "\n",
    "    def fit(self, train_dataloader, val_dataloader, n_epochs: int):\n",
    "        optimizer = torch.optim.Adam(self.parameters(), lr=1e-3)\n",
    "        criterion = self.compute_loss\n",
    "\n",
    "        metrics = []\n",
    "\n",
    "        for _ in range(n_epochs):\n",
    "            with tqdm(train_dataloader, leave=False) as bar:\n",
    "                rloss = []\n",
    "                for batch_idx, batch in enumerate(bar):\n",
    "                    output = self(batch[\"src_nexts\"], batch[\"src_locs\"], batch[\"tar_loc\"], batch[\"src_masks\"])\n",
    "\n",
    "                    loss = criterion(output, batch[\"target\"].squeeze(0))\n",
    "\n",
    "                    optimizer.zero_grad()\n",
    "                    loss.backward()\n",
    "                    optimizer.step()\n",
    "\n",
    "                    rloss.append(loss.item())\n",
    "\n",
    "                    if batch_idx % 100 == 0:\n",
    "                        avgl = sum(rloss) / len(rloss)\n",
    "                        bar.set_postfix(loss=avgl)\n",
    "                        rloss.clear()\n",
    "                bar.refresh()\n",
    "                bar.reset()\n",
    "\n",
    "            with tqdm(val_dataloader) as bar:\n",
    "                self.eval()\n",
    "                with torch.no_grad():\n",
    "                    rmetr = []\n",
    "                    for batch_idx, batch in enumerate(bar):\n",
    "                        output = self(batch[\"src_nexts\"], batch[\"src_locs\"], batch[\"tar_loc\"], batch[\"src_masks\"])\n",
    "\n",
    "                        output = output * cfg.data.normalize_std[\"PM2.5\"] + cfg.data.normalize_mean[\"PM2.5\"]\n",
    "                        mae = (output - batch[\"gt_target\"]).abs().mean().item()\n",
    "\n",
    "                        rmetr.append(mae)\n",
    "                    metrics.append(sum(rmetr) / len(rmetr))\n",
    "                    rmetr.clear()\n",
    "\n",
    "                self.train(True)\n",
    "\n",
    "        return metrics"
   ]
  },
  {
   "cell_type": "code",
   "execution_count": 22,
   "metadata": {},
   "outputs": [],
   "source": [
    "model = SpatialModel()"
   ]
  },
  {
   "cell_type": "code",
   "execution_count": 23,
   "metadata": {},
   "outputs": [
    {
     "name": "stderr",
     "output_type": "stream",
     "text": [
      "100%|██████████| 359/359 [00:02<00:00, 172.91it/s]               \n",
      "100%|██████████| 359/359 [00:03<00:00, 103.77it/s]               \n",
      "100%|██████████| 359/359 [00:02<00:00, 123.76it/s]               \n",
      "100%|██████████| 359/359 [00:02<00:00, 125.27it/s]               \n",
      "100%|██████████| 359/359 [00:03<00:00, 115.47it/s]               \n"
     ]
    }
   ],
   "source": [
    "log = model.fit(dtm.train_dataloader(), dtm.val_dataloader(), n_epochs=5)"
   ]
  },
  {
   "cell_type": "code",
   "execution_count": 24,
   "metadata": {},
   "outputs": [
    {
     "data": {
      "text/plain": [
       "[<matplotlib.lines.Line2D at 0x7f919d326b20>]"
      ]
     },
     "execution_count": 24,
     "metadata": {},
     "output_type": "execute_result"
    },
    {
     "data": {
      "image/png": "[encoded data removed]",
      "text/plain": [
       "<Figure size 432x288 with 1 Axes>"
      ]
     },
     "metadata": {
      "needs_background": "light"
     },
     "output_type": "display_data"
    }
   ],
   "source": [
    "import matplotlib.pyplot as plt\n",
    "plt.plot(log)"
   ]
  }
 ],
 "metadata": {
  "kernelspec": {
   "display_name": "Python 3.8.10 64-bit",
   "language": "python",
   "name": "python3"
  },
  "language_info": {
   "codemirror_mode": {
    "name": "ipython",
    "version": 3
   },
   "file_extension": ".py",
   "mimetype": "text/x-python",
   "name": "python",
   "nbconvert_exporter": "python",
   "pygments_lexer": "ipython3",
   "version": "3.8.10"
  },
  "orig_nbformat": 4,
  "vscode": {
   "interpreter": {
    "hash": "916dbcbb3f70747c44a77c7bcd40155683ae19c65e1c03b4aa3499c5328201f1"
   }
  }
 },
 "nbformat": 4,
 "nbformat_minor": 2
}
